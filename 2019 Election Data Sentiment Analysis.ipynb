{
 "cells": [
  {
   "cell_type": "code",
   "execution_count": 1,
   "metadata": {},
   "outputs": [
    {
     "name": "stdout",
     "output_type": "stream",
     "text": [
      "Collecting textblob\n",
      "  Downloading textblob-0.15.3-py2.py3-none-any.whl (636 kB)\n",
      "Requirement already satisfied: nltk>=3.1 in c:\\users\\shivangi singh\\anaconda3\\lib\\site-packages (from textblob) (3.4.5)\n",
      "Requirement already satisfied: six in c:\\users\\shivangi singh\\anaconda3\\lib\\site-packages (from nltk>=3.1->textblob) (1.14.0)\n",
      "Installing collected packages: textblob\n",
      "Successfully installed textblob-0.15.3\n"
     ]
    }
   ],
   "source": [
    "!pip install textblob"
   ]
  },
  {
   "cell_type": "code",
   "execution_count": 2,
   "metadata": {},
   "outputs": [
    {
     "name": "stdout",
     "output_type": "stream",
     "text": [
      "Collecting twython\n",
      "  Downloading twython-3.8.2-py3-none-any.whl (33 kB)\n",
      "Requirement already satisfied: requests>=2.1.0 in c:\\users\\shivangi singh\\anaconda3\\lib\\site-packages (from twython) (2.22.0)\n",
      "Collecting requests-oauthlib>=0.4.0\n",
      "  Downloading requests_oauthlib-1.3.0-py2.py3-none-any.whl (23 kB)\n",
      "Requirement already satisfied: urllib3!=1.25.0,!=1.25.1,<1.26,>=1.21.1 in c:\\users\\shivangi singh\\anaconda3\\lib\\site-packages (from requests>=2.1.0->twython) (1.25.8)\n",
      "Requirement already satisfied: chardet<3.1.0,>=3.0.2 in c:\\users\\shivangi singh\\anaconda3\\lib\\site-packages (from requests>=2.1.0->twython) (3.0.4)\n",
      "Requirement already satisfied: idna<2.9,>=2.5 in c:\\users\\shivangi singh\\anaconda3\\lib\\site-packages (from requests>=2.1.0->twython) (2.8)\n",
      "Requirement already satisfied: certifi>=2017.4.17 in c:\\users\\shivangi singh\\anaconda3\\lib\\site-packages (from requests>=2.1.0->twython) (2019.11.28)\n",
      "Collecting oauthlib>=3.0.0\n",
      "  Downloading oauthlib-3.1.0-py2.py3-none-any.whl (147 kB)\n",
      "Installing collected packages: oauthlib, requests-oauthlib, twython\n",
      "Successfully installed oauthlib-3.1.0 requests-oauthlib-1.3.0 twython-3.8.2\n"
     ]
    }
   ],
   "source": [
    "!pip install twython"
   ]
  },
  {
   "cell_type": "code",
   "execution_count": 3,
   "metadata": {},
   "outputs": [],
   "source": [
    "import re\n",
    "from textblob import TextBlob\n",
    "from twython import Twython\n",
    "import nltk\n",
    "import pandas as pd"
   ]
  },
  {
   "cell_type": "code",
   "execution_count": 4,
   "metadata": {},
   "outputs": [],
   "source": [
    "#method which take single tweet as argument and apply TextBlob and categorize each tweet \n",
    "#with respect to polarity\n",
    "def get_tweet_sentiment(tweet):\n",
    "    analysis = TextBlob(tweet)\n",
    "    if analysis.sentiment.polarity > 0:\n",
    "        return 'positive'\n",
    "    elif analysis.sentiment.polarity == 0:\n",
    "        return 'neutral'\n",
    "    else:\n",
    "        return 'negative'"
   ]
  },
  {
   "cell_type": "markdown",
   "metadata": {},
   "source": [
    "Sentiment Analysis For both Congress And BJP\n",
    "\n",
    "(Used open-source data -> People's Tweets of year 2019 election)\n",
    "\n",
    "For BJP -> csv has more data but we only use 8672 records(to make it balance with congress data)\n",
    "\n",
    "For Congress -> csv has 8672 records"
   ]
  },
  {
   "cell_type": "markdown",
   "metadata": {},
   "source": [
    "---------------------------------\n",
    "BJP ANALYSIS\n",
    "--------------------------------------"
   ]
  },
  {
   "cell_type": "code",
   "execution_count": 5,
   "metadata": {},
   "outputs": [
    {
     "name": "stdout",
     "output_type": "stream",
     "text": [
      "<class 'pandas.core.frame.DataFrame'>\n",
      "RangeIndex: 8672 entries, 0 to 8671\n",
      "Data columns (total 14 columns):\n",
      " #   Column            Non-Null Count  Dtype \n",
      "---  ------            --------------  ----- \n",
      " 0   id_str            8672 non-null   int64 \n",
      " 1   full_text         8670 non-null   object\n",
      " 2   created_at        8672 non-null   object\n",
      " 3   favourites_count  8672 non-null   int64 \n",
      " 4   statuses_count    8672 non-null   int64 \n",
      " 5   followers_count   8672 non-null   int64 \n",
      " 6   retweeted         8672 non-null   bool  \n",
      " 7   retweet_count     8672 non-null   int64 \n",
      " 8   retweeted_text    2080 non-null   object\n",
      " 9   location          8672 non-null   object\n",
      " 10  hashtags          8672 non-null   int64 \n",
      " 11  user_mentions     8672 non-null   int64 \n",
      " 12  symbols           8672 non-null   int64 \n",
      " 13  urls              8672 non-null   int64 \n",
      "dtypes: bool(1), int64(9), object(4)\n",
      "memory usage: 889.3+ KB\n"
     ]
    }
   ],
   "source": [
    "#Read CSV (only starting 8672 rows)\n",
    "df_data = pd.read_csv('LokShobaElc2019BJP.csv', nrows=8672)\n",
    "#info shows the details about the dataset\n",
    "df_data.info()"
   ]
  },
  {
   "cell_type": "code",
   "execution_count": 6,
   "metadata": {},
   "outputs": [
    {
     "data": {
      "text/html": [
       "<div>\n",
       "<style scoped>\n",
       "    .dataframe tbody tr th:only-of-type {\n",
       "        vertical-align: middle;\n",
       "    }\n",
       "\n",
       "    .dataframe tbody tr th {\n",
       "        vertical-align: top;\n",
       "    }\n",
       "\n",
       "    .dataframe thead th {\n",
       "        text-align: right;\n",
       "    }\n",
       "</style>\n",
       "<table border=\"1\" class=\"dataframe\">\n",
       "  <thead>\n",
       "    <tr style=\"text-align: right;\">\n",
       "      <th></th>\n",
       "      <th>tweeted_text</th>\n",
       "    </tr>\n",
       "  </thead>\n",
       "  <tbody>\n",
       "    <tr>\n",
       "      <th>0</th>\n",
       "      <td>@PiyushGoyal @narendramodi @arunjaitley Congra...</td>\n",
       "    </tr>\n",
       "    <tr>\n",
       "      <th>1</th>\n",
       "      <td>RT @NewIndianXpress: BJP's opposition to state...</td>\n",
       "    </tr>\n",
       "    <tr>\n",
       "      <th>2</th>\n",
       "      <td>RT @ThimmappaBJP: Send your questions on NaMo ...</td>\n",
       "    </tr>\n",
       "    <tr>\n",
       "      <th>3</th>\n",
       "      <td>BJP’s opposition to statehood for Delhi proves...</td>\n",
       "    </tr>\n",
       "    <tr>\n",
       "      <th>4</th>\n",
       "      <td>RT @mansukhmandviya: (Last Day) of , With my c...</td>\n",
       "    </tr>\n",
       "  </tbody>\n",
       "</table>\n",
       "</div>"
      ],
      "text/plain": [
       "                                        tweeted_text\n",
       "0  @PiyushGoyal @narendramodi @arunjaitley Congra...\n",
       "1  RT @NewIndianXpress: BJP's opposition to state...\n",
       "2  RT @ThimmappaBJP: Send your questions on NaMo ...\n",
       "3  BJP’s opposition to statehood for Delhi proves...\n",
       "4  RT @mansukhmandviya: (Last Day) of , With my c..."
      ]
     },
     "execution_count": 6,
     "metadata": {},
     "output_type": "execute_result"
    }
   ],
   "source": [
    "#making Dataframe for BJP (only full_text column is useful for us which is the actual tweet)\n",
    "#so making new dataframe df_BJP it contains only full_text column with label Tweeted Text\n",
    "df_BJP = pd.DataFrame({'tweeted_text': df_data['full_text']})\n",
    "df_BJP.head()"
   ]
  },
  {
   "cell_type": "code",
   "execution_count": 7,
   "metadata": {},
   "outputs": [
    {
     "data": {
      "text/html": [
       "<div>\n",
       "<style scoped>\n",
       "    .dataframe tbody tr th:only-of-type {\n",
       "        vertical-align: middle;\n",
       "    }\n",
       "\n",
       "    .dataframe tbody tr th {\n",
       "        vertical-align: top;\n",
       "    }\n",
       "\n",
       "    .dataframe thead th {\n",
       "        text-align: right;\n",
       "    }\n",
       "</style>\n",
       "<table border=\"1\" class=\"dataframe\">\n",
       "  <thead>\n",
       "    <tr style=\"text-align: right;\">\n",
       "      <th></th>\n",
       "      <th>tweeted_text</th>\n",
       "      <th>Sentiment</th>\n",
       "    </tr>\n",
       "  </thead>\n",
       "  <tbody>\n",
       "    <tr>\n",
       "      <th>0</th>\n",
       "      <td>@PiyushGoyal @narendramodi @arunjaitley Congra...</td>\n",
       "      <td>neutral</td>\n",
       "    </tr>\n",
       "    <tr>\n",
       "      <th>1</th>\n",
       "      <td>RT @NewIndianXpress: BJP's opposition to state...</td>\n",
       "      <td>neutral</td>\n",
       "    </tr>\n",
       "    <tr>\n",
       "      <th>2</th>\n",
       "      <td>RT @ThimmappaBJP: Send your questions on NaMo ...</td>\n",
       "      <td>positive</td>\n",
       "    </tr>\n",
       "    <tr>\n",
       "      <th>3</th>\n",
       "      <td>BJP’s opposition to statehood for Delhi proves...</td>\n",
       "      <td>positive</td>\n",
       "    </tr>\n",
       "    <tr>\n",
       "      <th>4</th>\n",
       "      <td>RT @mansukhmandviya: (Last Day) of , With my c...</td>\n",
       "      <td>negative</td>\n",
       "    </tr>\n",
       "    <tr>\n",
       "      <th>...</th>\n",
       "      <td>...</td>\n",
       "      <td>...</td>\n",
       "    </tr>\n",
       "    <tr>\n",
       "      <th>8667</th>\n",
       "      <td>BMW Mayawati nd @yadavakhilesh did nothing for...</td>\n",
       "      <td>positive</td>\n",
       "    </tr>\n",
       "    <tr>\n",
       "      <th>8668</th>\n",
       "      <td>Bharatiyas are being forced to understand who ...</td>\n",
       "      <td>positive</td>\n",
       "    </tr>\n",
       "    <tr>\n",
       "      <th>8669</th>\n",
       "      <td>So a BJP Prime Minister gets a presidential aw...</td>\n",
       "      <td>neutral</td>\n",
       "    </tr>\n",
       "    <tr>\n",
       "      <th>8670</th>\n",
       "      <td>please prove Bagri wrong.</td>\n",
       "      <td>negative</td>\n",
       "    </tr>\n",
       "    <tr>\n",
       "      <th>8671</th>\n",
       "      <td>@narendramodi 130 crore In Indians will pray for</td>\n",
       "      <td>neutral</td>\n",
       "    </tr>\n",
       "  </tbody>\n",
       "</table>\n",
       "<p>8672 rows × 2 columns</p>\n",
       "</div>"
      ],
      "text/plain": [
       "                                           tweeted_text Sentiment\n",
       "0     @PiyushGoyal @narendramodi @arunjaitley Congra...   neutral\n",
       "1     RT @NewIndianXpress: BJP's opposition to state...   neutral\n",
       "2     RT @ThimmappaBJP: Send your questions on NaMo ...  positive\n",
       "3     BJP’s opposition to statehood for Delhi proves...  positive\n",
       "4     RT @mansukhmandviya: (Last Day) of , With my c...  negative\n",
       "...                                                 ...       ...\n",
       "8667  BMW Mayawati nd @yadavakhilesh did nothing for...  positive\n",
       "8668  Bharatiyas are being forced to understand who ...  positive\n",
       "8669  So a BJP Prime Minister gets a presidential aw...   neutral\n",
       "8670                          please prove Bagri wrong.  negative\n",
       "8671   @narendramodi 130 crore In Indians will pray for   neutral\n",
       "\n",
       "[8672 rows x 2 columns]"
      ]
     },
     "execution_count": 7,
     "metadata": {},
     "output_type": "execute_result"
    }
   ],
   "source": [
    "#Using method \"get_tweet_sentiment\" for each row (here lambda expression used to iterate over each entry of data)\n",
    "df_BJP['Sentiment'] = df_BJP.apply(lambda x: get_tweet_sentiment(str(x['tweeted_text'])),axis=1)\n",
    "df_BJP"
   ]
  },
  {
   "cell_type": "code",
   "execution_count": 8,
   "metadata": {},
   "outputs": [
    {
     "data": {
      "text/plain": [
       "<matplotlib.axes._subplots.AxesSubplot at 0x2be2a351248>"
      ]
     },
     "execution_count": 8,
     "metadata": {},
     "output_type": "execute_result"
    },
    {
     "data": {
      "image/png": "[encoded data removed]",
      "text/plain": [
       "<Figure size 432x288 with 1 Axes>"
      ]
     },
     "metadata": {
      "needs_background": "light"
     },
     "output_type": "display_data"
    }
   ],
   "source": [
    "#Histogram for BJP Sentiments\n",
    "df_BJP['Sentiment'].value_counts().plot(kind='bar')"
   ]
  },
  {
   "cell_type": "markdown",
   "metadata": {},
   "source": [
    "---------------------------------\n",
    "CONGRESS ANALYSIS\n",
    "--------------------------------------"
   ]
  },
  {
   "cell_type": "code",
   "execution_count": 9,
   "metadata": {},
   "outputs": [
    {
     "name": "stdout",
     "output_type": "stream",
     "text": [
      "<class 'pandas.core.frame.DataFrame'>\n",
      "RangeIndex: 8671 entries, 0 to 8670\n",
      "Data columns (total 14 columns):\n",
      " #   Column            Non-Null Count  Dtype \n",
      "---  ------            --------------  ----- \n",
      " 0   id_str            8671 non-null   int64 \n",
      " 1   full_text         8671 non-null   object\n",
      " 2   created_at        8671 non-null   object\n",
      " 3   favourites_count  8671 non-null   int64 \n",
      " 4   statuses_count    8671 non-null   int64 \n",
      " 5   followers_count   8671 non-null   int64 \n",
      " 6   retweeted         8671 non-null   bool  \n",
      " 7   retweet_count     8671 non-null   int64 \n",
      " 8   retweeted_text    1907 non-null   object\n",
      " 9   location          8671 non-null   object\n",
      " 10  hashtags          8671 non-null   int64 \n",
      " 11  user_mentions     8671 non-null   int64 \n",
      " 12  symbols           8671 non-null   int64 \n",
      " 13  urls              8671 non-null   int64 \n",
      "dtypes: bool(1), int64(9), object(4)\n",
      "memory usage: 889.2+ KB\n"
     ]
    }
   ],
   "source": [
    "#Read CSV \n",
    "df_data = pd.read_csv('LokShobaElc2019Cong.csv')\n",
    "#info shows the details about the dataset\n",
    "df_data.info()"
   ]
  },
  {
   "cell_type": "code",
   "execution_count": 10,
   "metadata": {},
   "outputs": [
    {
     "data": {
      "text/html": [
       "<div>\n",
       "<style scoped>\n",
       "    .dataframe tbody tr th:only-of-type {\n",
       "        vertical-align: middle;\n",
       "    }\n",
       "\n",
       "    .dataframe tbody tr th {\n",
       "        vertical-align: top;\n",
       "    }\n",
       "\n",
       "    .dataframe thead th {\n",
       "        text-align: right;\n",
       "    }\n",
       "</style>\n",
       "<table border=\"1\" class=\"dataframe\">\n",
       "  <thead>\n",
       "    <tr style=\"text-align: right;\">\n",
       "      <th></th>\n",
       "      <th>tweeted_text</th>\n",
       "    </tr>\n",
       "  </thead>\n",
       "  <tbody>\n",
       "    <tr>\n",
       "      <th>0</th>\n",
       "      <td>RT @Supriya23bh: And it’s sealed !!! Congress-...</td>\n",
       "    </tr>\n",
       "    <tr>\n",
       "      <th>1</th>\n",
       "      <td>RT @HKCongress: It is going to be a tough to f...</td>\n",
       "    </tr>\n",
       "    <tr>\n",
       "      <th>2</th>\n",
       "      <td>RT @Supriya23bh: Congress’ Youth Wing @IYC lau...</td>\n",
       "    </tr>\n",
       "    <tr>\n",
       "      <th>3</th>\n",
       "      <td>@UnSubtleDesi @mamtan14 It is very small rewar...</td>\n",
       "    </tr>\n",
       "    <tr>\n",
       "      <th>4</th>\n",
       "      <td>It is going to be a tough to face if we go aga...</td>\n",
       "    </tr>\n",
       "  </tbody>\n",
       "</table>\n",
       "</div>"
      ],
      "text/plain": [
       "                                        tweeted_text\n",
       "0  RT @Supriya23bh: And it’s sealed !!! Congress-...\n",
       "1  RT @HKCongress: It is going to be a tough to f...\n",
       "2  RT @Supriya23bh: Congress’ Youth Wing @IYC lau...\n",
       "3  @UnSubtleDesi @mamtan14 It is very small rewar...\n",
       "4  It is going to be a tough to face if we go aga..."
      ]
     },
     "execution_count": 10,
     "metadata": {},
     "output_type": "execute_result"
    }
   ],
   "source": [
    "#making Dataframe for CONGRESS (only full_text column is useful for us which is the actual tweet)\n",
    "#so making new dataframe df_Congress it contains only full_text column with label Tweeted Text\n",
    "df_Congress = pd.DataFrame({'tweeted_text': df_data['full_text']})\n",
    "df_Congress.head()"
   ]
  },
  {
   "cell_type": "code",
   "execution_count": 11,
   "metadata": {},
   "outputs": [
    {
     "data": {
      "text/html": [
       "<div>\n",
       "<style scoped>\n",
       "    .dataframe tbody tr th:only-of-type {\n",
       "        vertical-align: middle;\n",
       "    }\n",
       "\n",
       "    .dataframe tbody tr th {\n",
       "        vertical-align: top;\n",
       "    }\n",
       "\n",
       "    .dataframe thead th {\n",
       "        text-align: right;\n",
       "    }\n",
       "</style>\n",
       "<table border=\"1\" class=\"dataframe\">\n",
       "  <thead>\n",
       "    <tr style=\"text-align: right;\">\n",
       "      <th></th>\n",
       "      <th>tweeted_text</th>\n",
       "      <th>Sentiment</th>\n",
       "    </tr>\n",
       "  </thead>\n",
       "  <tbody>\n",
       "    <tr>\n",
       "      <th>0</th>\n",
       "      <td>RT @Supriya23bh: And it’s sealed !!! Congress-...</td>\n",
       "      <td>neutral</td>\n",
       "    </tr>\n",
       "    <tr>\n",
       "      <th>1</th>\n",
       "      <td>RT @HKCongress: It is going to be a tough to f...</td>\n",
       "      <td>positive</td>\n",
       "    </tr>\n",
       "    <tr>\n",
       "      <th>2</th>\n",
       "      <td>RT @Supriya23bh: Congress’ Youth Wing @IYC lau...</td>\n",
       "      <td>positive</td>\n",
       "    </tr>\n",
       "    <tr>\n",
       "      <th>3</th>\n",
       "      <td>@UnSubtleDesi @mamtan14 It is very small rewar...</td>\n",
       "      <td>negative</td>\n",
       "    </tr>\n",
       "    <tr>\n",
       "      <th>4</th>\n",
       "      <td>It is going to be a tough to face if we go aga...</td>\n",
       "      <td>positive</td>\n",
       "    </tr>\n",
       "    <tr>\n",
       "      <th>...</th>\n",
       "      <td>...</td>\n",
       "      <td>...</td>\n",
       "    </tr>\n",
       "    <tr>\n",
       "      <th>8666</th>\n",
       "      <td>@DrGPradhan @nsitharaman @RahulGandhi @smritii...</td>\n",
       "      <td>positive</td>\n",
       "    </tr>\n",
       "    <tr>\n",
       "      <th>8667</th>\n",
       "      <td>@ianuragthakur @INCIndia @RahulGandhi Watch th...</td>\n",
       "      <td>neutral</td>\n",
       "    </tr>\n",
       "    <tr>\n",
       "      <th>8668</th>\n",
       "      <td>RT @sunandnr: chose this fate! The are Liars a...</td>\n",
       "      <td>positive</td>\n",
       "    </tr>\n",
       "    <tr>\n",
       "      <th>8669</th>\n",
       "      <td>chose this fate! The are Liars and cheats. won...</td>\n",
       "      <td>positive</td>\n",
       "    </tr>\n",
       "    <tr>\n",
       "      <th>8670</th>\n",
       "      <td>There have been speculations of chief Ajay Mak...</td>\n",
       "      <td>positive</td>\n",
       "    </tr>\n",
       "  </tbody>\n",
       "</table>\n",
       "<p>8671 rows × 2 columns</p>\n",
       "</div>"
      ],
      "text/plain": [
       "                                           tweeted_text Sentiment\n",
       "0     RT @Supriya23bh: And it’s sealed !!! Congress-...   neutral\n",
       "1     RT @HKCongress: It is going to be a tough to f...  positive\n",
       "2     RT @Supriya23bh: Congress’ Youth Wing @IYC lau...  positive\n",
       "3     @UnSubtleDesi @mamtan14 It is very small rewar...  negative\n",
       "4     It is going to be a tough to face if we go aga...  positive\n",
       "...                                                 ...       ...\n",
       "8666  @DrGPradhan @nsitharaman @RahulGandhi @smritii...  positive\n",
       "8667  @ianuragthakur @INCIndia @RahulGandhi Watch th...   neutral\n",
       "8668  RT @sunandnr: chose this fate! The are Liars a...  positive\n",
       "8669  chose this fate! The are Liars and cheats. won...  positive\n",
       "8670  There have been speculations of chief Ajay Mak...  positive\n",
       "\n",
       "[8671 rows x 2 columns]"
      ]
     },
     "execution_count": 11,
     "metadata": {},
     "output_type": "execute_result"
    }
   ],
   "source": [
    "#Using method \"get_tweet_sentiment\" for each row (here lambda expression used to iterate over each entry of data)\n",
    "df_Congress['Sentiment'] = df_Congress.apply(lambda x: get_tweet_sentiment(str(x['tweeted_text'])),axis=1)\n",
    "df_Congress"
   ]
  },
  {
   "cell_type": "code",
   "execution_count": 12,
   "metadata": {},
   "outputs": [
    {
     "data": {
      "text/plain": [
       "<matplotlib.axes._subplots.AxesSubplot at 0x2be2b9145c8>"
      ]
     },
     "execution_count": 12,
     "metadata": {},
     "output_type": "execute_result"
    },
    {
     "data": {
      "image/png": "[encoded data removed]",
      "text/plain": [
       "<Figure size 432x288 with 1 Axes>"
      ]
     },
     "metadata": {
      "needs_background": "light"
     },
     "output_type": "display_data"
    }
   ],
   "source": [
    "#Histogram for CONGRESS Sentiments\n",
    "df_Congress['Sentiment'].value_counts().plot(kind='bar')"
   ]
  },
  {
   "cell_type": "markdown",
   "metadata": {},
   "source": [
    "---------------------------------\n",
    "REAL-TIME TWITTER DATA ANALYSIS\n",
    "--------------------------------------"
   ]
  },
  {
   "cell_type": "code",
   "execution_count": 13,
   "metadata": {},
   "outputs": [],
   "source": [
    "#Method to fetch real-time tweets (in argument we will pass the keyword to search tweets for)\n",
    "def get_tweet(q):\n",
    "    app_key = 'bdKaYkyCcSmf9f6Wfqj8VvIuR'\n",
    "    app_secret = '1S1WMaZJxdIFyiniKjDeLFCBDRPP72bx2HCxI2cwMTx0Y7bYOy'\n",
    "    oauth_token = '786603866498269184-DSnfKXCZhYNRUjboLDwHWaZ7InaFslf'\n",
    "    oauth_token_secret = 'QDRQK2huoL8hpo3MvaqrNdrGtvWWxCd6sCCI8B0X95v8y'\n",
    "    try:\n",
    "        #open the twitter api using tokens\n",
    "        t = Twython(app_key=app_key, app_secret=app_secret, oauth_token=oauth_token, oauth_token_secret=oauth_token_secret)\n",
    "        #search 100 records for specific keyword\n",
    "        search =t.search(q=q,count=100)\n",
    "        #fetch statuses\n",
    "        fetched_tweets = search['statuses']\n",
    "        text=[]\n",
    "        for i in fetched_tweets:\n",
    "            #adding each fetched tweet to list\n",
    "            text.append(i.get('text'))\n",
    "        sentiment=[]\n",
    "        for tweet in text:\n",
    "            #adding return result from the method \"get_tweet_sentiment\" which is categorizing each tweet\n",
    "            sentiment.append(get_tweet_sentiment(tweet))\n",
    "\n",
    "    except:\n",
    "        print(\"error\")\n",
    "    ptweets = [tweet for tweet in sentiment if tweet == 'positive']\n",
    "    ntweets = [tweet for tweet in sentiment if tweet == 'negative']\n",
    "    positive_tweet=int(100*len(ptweets)/len(sentiment))\n",
    "    negative_tweets=int(100*len(ntweets)/len(sentiment))\n",
    "    neutral_tweets=int(100*(len(sentiment) - len(ntweets) - len(ptweets))/len(sentiment))\n",
    "    return text,sentiment,positive_tweet,negative_tweets,neutral_tweets\n"
   ]
  },
  {
   "cell_type": "code",
   "execution_count": 14,
   "metadata": {},
   "outputs": [],
   "source": [
    "# Fetching tweets by using method \"get_tweet\" passing the keyword as the argument\n",
    "text_trump,sentiment_trump,x1,y1,z1=get_tweet('trump')\n",
    "text_hillary,sentiment_hillary,x2,wy2,z2=get_tweet('hillary')\n",
    "text_berne,sentiment_berne,x3,y3,z3=get_tweet('berne')"
   ]
  },
  {
   "cell_type": "markdown",
   "metadata": {},
   "source": [
    "Analysis For Trump"
   ]
  },
  {
   "cell_type": "code",
   "execution_count": 90,
   "metadata": {},
   "outputs": [
    {
     "data": {
      "text/html": [
       "<div>\n",
       "<style scoped>\n",
       "    .dataframe tbody tr th:only-of-type {\n",
       "        vertical-align: middle;\n",
       "    }\n",
       "\n",
       "    .dataframe tbody tr th {\n",
       "        vertical-align: top;\n",
       "    }\n",
       "\n",
       "    .dataframe thead th {\n",
       "        text-align: right;\n",
       "    }\n",
       "</style>\n",
       "<table border=\"1\" class=\"dataframe\">\n",
       "  <thead>\n",
       "    <tr style=\"text-align: right;\">\n",
       "      <th></th>\n",
       "      <th>text</th>\n",
       "      <th>sentiment</th>\n",
       "    </tr>\n",
       "  </thead>\n",
       "  <tbody>\n",
       "    <tr>\n",
       "      <th>0</th>\n",
       "      <td>RT @EdwardTHardy: @realDonaldTrump Donald Trum...</td>\n",
       "      <td>neutral</td>\n",
       "    </tr>\n",
       "    <tr>\n",
       "      <th>1</th>\n",
       "      <td>RT @AymanM: THREAD/ For weeks, Pres Trump has ...</td>\n",
       "      <td>neutral</td>\n",
       "    </tr>\n",
       "    <tr>\n",
       "      <th>2</th>\n",
       "      <td>RT @_SemaHernandez_: You need us but abuse us....</td>\n",
       "      <td>negative</td>\n",
       "    </tr>\n",
       "    <tr>\n",
       "      <th>3</th>\n",
       "      <td>RT @Nationalist_KAG: The truth is, President T...</td>\n",
       "      <td>positive</td>\n",
       "    </tr>\n",
       "    <tr>\n",
       "      <th>4</th>\n",
       "      <td>RT @KamalaHarris: Yesterday we had a Homeland ...</td>\n",
       "      <td>neutral</td>\n",
       "    </tr>\n",
       "    <tr>\n",
       "      <th>...</th>\n",
       "      <td>...</td>\n",
       "      <td>...</td>\n",
       "    </tr>\n",
       "    <tr>\n",
       "      <th>95</th>\n",
       "      <td>RT @davidsirias1: #coronapocolypse #coronaviru...</td>\n",
       "      <td>neutral</td>\n",
       "    </tr>\n",
       "    <tr>\n",
       "      <th>96</th>\n",
       "      <td>RT @Strandjunker: Raise your hand if you think...</td>\n",
       "      <td>neutral</td>\n",
       "    </tr>\n",
       "    <tr>\n",
       "      <th>97</th>\n",
       "      <td>RT @Sweetemmilyn: Yesterday, Trump solidified ...</td>\n",
       "      <td>positive</td>\n",
       "    </tr>\n",
       "    <tr>\n",
       "      <th>98</th>\n",
       "      <td>RT @kylegriffin1: Sources told VF Trump is reg...</td>\n",
       "      <td>neutral</td>\n",
       "    </tr>\n",
       "    <tr>\n",
       "      <th>99</th>\n",
       "      <td>RT @JswannyJohn: Awesome take on Trump \\n#coro...</td>\n",
       "      <td>positive</td>\n",
       "    </tr>\n",
       "  </tbody>\n",
       "</table>\n",
       "<p>100 rows × 2 columns</p>\n",
       "</div>"
      ],
      "text/plain": [
       "                                                 text sentiment\n",
       "0   RT @EdwardTHardy: @realDonaldTrump Donald Trum...   neutral\n",
       "1   RT @AymanM: THREAD/ For weeks, Pres Trump has ...   neutral\n",
       "2   RT @_SemaHernandez_: You need us but abuse us....  negative\n",
       "3   RT @Nationalist_KAG: The truth is, President T...  positive\n",
       "4   RT @KamalaHarris: Yesterday we had a Homeland ...   neutral\n",
       "..                                                ...       ...\n",
       "95  RT @davidsirias1: #coronapocolypse #coronaviru...   neutral\n",
       "96  RT @Strandjunker: Raise your hand if you think...   neutral\n",
       "97  RT @Sweetemmilyn: Yesterday, Trump solidified ...  positive\n",
       "98  RT @kylegriffin1: Sources told VF Trump is reg...   neutral\n",
       "99  RT @JswannyJohn: Awesome take on Trump \\n#coro...  positive\n",
       "\n",
       "[100 rows x 2 columns]"
      ]
     },
     "execution_count": 90,
     "metadata": {},
     "output_type": "execute_result"
    }
   ],
   "source": [
    "#making dataframe for for each entity\n",
    "df_trump=pd.DataFrame()\n",
    "df_trump['text']=text_trump\n",
    "df_trump['sentiment']=sentiment_trump\n",
    "df_trump"
   ]
  },
  {
   "cell_type": "code",
   "execution_count": 91,
   "metadata": {},
   "outputs": [
    {
     "data": {
      "text/plain": [
       "<matplotlib.axes._subplots.AxesSubplot at 0xf40e439c48>"
      ]
     },
     "execution_count": 91,
     "metadata": {},
     "output_type": "execute_result"
    },
    {
     "data": {
      "image/png": "[encoded data removed]",
      "text/plain": [
       "<Figure size 432x288 with 1 Axes>"
      ]
     },
     "metadata": {
      "needs_background": "light"
     },
     "output_type": "display_data"
    }
   ],
   "source": [
    "#Historgram\n",
    "df_trump['sentiment'].value_counts().plot(kind='bar')"
   ]
  },
  {
   "cell_type": "markdown",
   "metadata": {},
   "source": [
    "Analysis for Hillary"
   ]
  },
  {
   "cell_type": "code",
   "execution_count": 92,
   "metadata": {},
   "outputs": [],
   "source": [
    "df_hillary=pd.DataFrame()\n",
    "df_hillary['text']=text_hillary\n",
    "df_hillary['sentiment']=sentiment_hillary"
   ]
  },
  {
   "cell_type": "code",
   "execution_count": 93,
   "metadata": {},
   "outputs": [
    {
     "data": {
      "text/plain": [
       "<matplotlib.axes._subplots.AxesSubplot at 0xf40e4d0b08>"
      ]
     },
     "execution_count": 93,
     "metadata": {},
     "output_type": "execute_result"
    },
    {
     "data": {
      "image/png": "[encoded data removed]",
      "text/plain": [
       "<Figure size 432x288 with 1 Axes>"
      ]
     },
     "metadata": {
      "needs_background": "light"
     },
     "output_type": "display_data"
    }
   ],
   "source": [
    "df_hillary['sentiment'].value_counts().plot(kind='bar')"
   ]
  },
  {
   "cell_type": "markdown",
   "metadata": {},
   "source": [
    "Analysis for Berne"
   ]
  },
  {
   "cell_type": "code",
   "execution_count": 94,
   "metadata": {},
   "outputs": [],
   "source": [
    "df_berne=pd.DataFrame()\n",
    "df_berne['text']=text_berne\n",
    "df_berne['sentiment']=sentiment_berne"
   ]
  },
  {
   "cell_type": "code",
   "execution_count": 95,
   "metadata": {},
   "outputs": [
    {
     "data": {
      "text/plain": [
       "<matplotlib.axes._subplots.AxesSubplot at 0xf40e52fb48>"
      ]
     },
     "execution_count": 95,
     "metadata": {},
     "output_type": "execute_result"
    },
    {
     "data": {
      "image/png": "[encoded data removed]",
      "text/plain": [
       "<Figure size 432x288 with 1 Axes>"
      ]
     },
     "metadata": {
      "needs_background": "light"
     },
     "output_type": "display_data"
    }
   ],
   "source": [
    "df_berne['sentiment'].value_counts().plot(kind='bar')"
   ]
  }
 ],
 "metadata": {
  "kernelspec": {
   "display_name": "Python 3",
   "language": "python",
   "name": "python3"
  },
  "language_info": {
   "codemirror_mode": {
    "name": "ipython",
    "version": 3
   },
   "file_extension": ".py",
   "mimetype": "text/x-python",
   "name": "python",
   "nbconvert_exporter": "python",
   "pygments_lexer": "ipython3",
   "version": "3.7.6"
  }
 },
 "nbformat": 4,
 "nbformat_minor": 2
}
